{
 "cells": [
  {
   "cell_type": "code",
   "execution_count": 1,
   "metadata": {},
   "outputs": [
    {
     "name": "stderr",
     "output_type": "stream",
     "text": [
      "/home/lipet2k/anaconda3/envs/nerf/lib/python3.10/site-packages/tqdm/auto.py:22: TqdmWarning: IProgress not found. Please update jupyter and ipywidgets. See https://ipywidgets.readthedocs.io/en/stable/user_install.html\n",
      "  from .autonotebook import tqdm as notebook_tqdm\n"
     ]
    }
   ],
   "source": [
    "import torch\n",
    "import torch.nn as nn\n",
    "import numpy as np\n",
    "import matplotlib.pyplot as plt\n",
    "import time\n",
    "from tqdm import tqdm_notebook as tqdm"
   ]
  },
  {
   "cell_type": "code",
   "execution_count": 2,
   "metadata": {},
   "outputs": [
    {
     "data": {
      "image/png": "[encoded data removed]",
      "text/plain": [
       "<Figure size 640x480 with 1 Axes>"
      ]
     },
     "metadata": {},
     "output_type": "display_data"
    },
    {
     "name": "stdout",
     "output_type": "stream",
     "text": [
      "(106, 100, 100, 3)\n"
     ]
    }
   ],
   "source": [
    "# Load the data from the tiny nerf data set\n",
    "data = np.load('./datasets/tiny_nerf_data.npz')\n",
    "images, poses, focal = data['images'], data['poses'], data['focal']\n",
    "\n",
    "height = np.shape(images)[1]\n",
    "width = np.shape(images)[2]\n",
    "# print(height)\n",
    "# print(width)\n",
    "# print(focal)\n",
    "# print(np.shape(poses))\n",
    "# plt.imshow(images[0])\n",
    "plt.imshow(images[50])\n",
    "plt.show()\n",
    "print(np.shape(images))"
   ]
  },
  {
   "cell_type": "markdown",
   "metadata": {},
   "source": [
    "\n",
    "![title](./images/positional_encoding.png)"
   ]
  },
  {
   "cell_type": "code",
   "execution_count": 3,
   "metadata": {},
   "outputs": [],
   "source": [
    "#Positional encoding (p.g. 7 Section 5.1 of NERF Paper)\n",
    "# L_val=4\n",
    "L_val=6\n",
    "\n",
    "def positional_encoding(x: torch.Tensor) -> torch.Tensor:\n",
    "    x_array = [x]\n",
    "#     print(x_array)\n",
    "    for i in range(L_val):\n",
    "        x_array.append(torch.sin(2.0**i * x))\n",
    "        x_array.append(torch.cos(2.0**i * x))\n",
    "    concat_x = torch.cat(x_array, -1)\n",
    "    return concat_x   \n",
    "\n",
    "def find_rays(width, height, focal, camera_frames):\n",
    "    i, j = torch.meshgrid(torch.range(1, width), torch.range(1, height), indexing=\"xy\")\n",
    "#     i, j = torch.meshgrid(torch.range(width), torch.range(height), indexing=\"ij\")\n",
    "    width_over_focal = (i-width/2.0)/focal\n",
    "    height_over_focal = -1 * (j - height/ 2.0)/focal\n",
    "    dirs = torch.stack([width_over_focal, height_over_focal, -1 * torch.ones_like(i)], -1)\n",
    "    rays_d = torch.sum(dirs[..., np.newaxis, :] * camera_frames[:3,:3], -1)\n",
    "    shape_of_rays_d = rays_d.size()\n",
    "#     print(type(shape_of_rays_d))\n",
    "\n",
    "#     print(shape_of_rays_d)\n",
    "    from_third = torch.tensor(camera_frames[:3,-1])\n",
    "#     print(type(from_third))\n",
    "    rays_o = torch.broadcast_to(from_third, shape_of_rays_d)\n",
    "    return rays_o, rays_d\n",
    "\n",
    "def create_batches(points: torch.Tensor, model, chunk_size: int=32*1024) -> torch.Tensor:\n",
    "    first_shape = points.size()[0]\n",
    "    special_list = []\n",
    "    for i in range(0, first_shape, chunk_size):\n",
    "        grad = model(points[i:i+chunk_size])\n",
    "#         print(grad.shape)\n",
    "        special_list.append( grad )\n",
    "    return torch.cat(special_list, 0)\n",
    "#     return torch.cat([model(points[i:i+chunk_size]) for i in range(0, first_shape, chunk_size)], 0)\n",
    "    \n",
    "def render(rays_o, rays_d, model, near, far, num_samples):\n",
    "    z_points = torch.linspace(near, far, num_samples)\n",
    "    points = rays_o[...,None,:] + rays_d[...,None,:] * z_points[...,:,None]\n",
    "    \n",
    "    #flatten the points and use positional encoding\n",
    "    new_points = positional_encoding(points.reshape((-1, 3)))\n",
    "\n",
    "    batched = create_batches(new_points, model)\n",
    "    #reshape the batched points\n",
    "    get_last = list(points.size()[:-1])\n",
    "    batched = batched.reshape(get_last + [4])\n",
    "    \n",
    "#     print(batched.shape)\n",
    "    \n",
    "    up_to_last = batched[..., 3]\n",
    "    sigma = torch.sigmoid(up_to_last)\n",
    "    rgb_values = torch.sigmoid(batched[..., :3])\n",
    "    \n",
    "    back_to_front = z_points[..., 1:] - z_points[..., :-1]\n",
    "    broadcasted_vals = torch.broadcast_to(torch.tensor([1e10]), z_points[...,:1].size())\n",
    "    \n",
    "    distances = torch.cat([back_to_front, broadcasted_vals], -1)\n",
    "    alphas = 1. - torch.exp(-1 * sigma * distances)\n",
    "#     print(rgb_values.shape)\n",
    "\n",
    "    inverse_alphas = 1.0 - alphas + 1e-10\n",
    "\n",
    "    #TODO: Fix this for exclusive cum_prod\n",
    "    probs = torch.cumprod(inverse_alphas, -1)\n",
    "    probs = torch.roll(probs, 1, -1)\n",
    "    probs[...,0] = 1.0\n",
    "    weights = alphas * probs \n",
    "#     print(weights.shape)\n",
    "#     print(alphas.shape)\n",
    "    rgb_map = torch.sum(weights[...,None] * rgb_values, -2) \n",
    "    depth_map = torch.sum(weights * z_points, -1) \n",
    "    acc_map = torch.sum(weights, -1)\n",
    "    \n",
    "    return rgb_map, depth_map, acc_map"
   ]
  },
  {
   "cell_type": "code",
   "execution_count": 4,
   "metadata": {},
   "outputs": [],
   "source": [
    "#Create the pytorch model\n",
    "input_num = 2*3*L_val+3\n",
    "\n",
    "class Nerf(nn.Module):\n",
    "    def __init__(self, input_dim=input_num, output_dim=4, depth=4, nn_count=128):\n",
    "        super(Nerf, self).__init__()\n",
    "        self.depth = depth\n",
    "        self.nn_count = nn_count\n",
    "        \n",
    "        self.sigmoid = nn.Sigmoid()\n",
    "        self.relu = nn.ReLU()\n",
    "        self.fc1 = nn.Linear(input_dim, nn_count)\n",
    "        self.linears = nn.ModuleList([nn.Linear(nn_count, nn_count) for i in range(depth - 2)])\n",
    "        self.fc8 = nn.Linear(nn_count, output_dim)\n",
    "    \n",
    "    def forward(self, x):\n",
    "        out = self.fc1(x)\n",
    "        out = self.relu(out)\n",
    "        for i, layers in enumerate(self.linears):\n",
    "            out = layers(out)\n",
    "            out = self.relu(out)\n",
    "        out = self.fc8(out)\n",
    "        out = self.sigmoid(out)\n",
    "        return out"
   ]
  },
  {
   "cell_type": "markdown",
   "metadata": {},
   "source": [
    "![title](./images/adam.png)"
   ]
  },
  {
   "cell_type": "code",
   "execution_count": null,
   "metadata": {},
   "outputs": [
    {
     "name": "stderr",
     "output_type": "stream",
     "text": [
      "/tmp/ipykernel_10036/763658904.py:15: UserWarning: torch.range is deprecated and will be removed in a future release because its behavior is inconsistent with Python's range builtin. Instead, use torch.arange, which produces values in [start, end).\n",
      "  i, j = torch.meshgrid(torch.range(1, width), torch.range(1, height), indexing=\"xy\")\n"
     ]
    },
    {
     "name": "stdout",
     "output_type": "stream",
     "text": [
      "0 0.042451295852661136 secs per iter\n"
     ]
    },
    {
     "data": {
      "image/png": "[encoded data removed]",
      "text/plain": [
       "<Figure size 1000x400 with 2 Axes>"
      ]
     },
     "metadata": {},
     "output_type": "display_data"
    }
   ],
   "source": [
    "model = Nerf()\n",
    "\n",
    "num_samples = 64\n",
    "n_iters = 1000\n",
    "learning_rate = 0.1\n",
    "psnrs = []\n",
    "iternums = []\n",
    "\n",
    "criterion = nn.MSELoss()\n",
    "\n",
    "t = time.time()\n",
    "\n",
    "optimizer = torch.optim.Adam(model.parameters(), lr=learning_rate)\n",
    "for epoch in range(n_iters+1):\n",
    "    \n",
    "    img_i = np.random.randint(images.shape[0])\n",
    "    target = images[img_i]\n",
    "    pose = poses[img_i]\n",
    "    rays_o, rays_d = find_rays(height=height, width=width, focal=focal, camera_frames=pose)\n",
    "    \n",
    "    \n",
    "\n",
    "    rgb, depth, acc = render(rays_o=rays_o, rays_d=rays_d, model=model, near=2., far=6., num_samples=num_samples)\n",
    "#     print(rgb)\n",
    "#     print(target)\n",
    "    loss = criterion(rgb, torch.tensor(target))\n",
    "    loss.backward()\n",
    "\n",
    "    optimizer.step()\n",
    "    optimizer.zero_grad()\n",
    "    \n",
    "    if epoch % 50 == 0:\n",
    "        print(epoch, (time.time() - t) / 50, 'secs per iter')\n",
    "        t = time.time()\n",
    "        \n",
    "        rays_o, rays_d = find_rays(height=height, width=width, focal=focal, camera_frames=poses[50])\n",
    "        rgb, depth, acc = render(rays_o=rays_o, rays_d=rays_d, model=model, near=2., far=6., num_samples=num_samples)\n",
    "        psnr = -10. * torch.log(loss) / torch.log(torch.tensor(10.))\n",
    "\n",
    "        psnrs.append(psnr.detach().numpy())\n",
    "        iternums.append(epoch)\n",
    "        \n",
    "        plt.figure(figsize=(10,4))\n",
    "        plt.subplot(121)\n",
    "        plt.imshow(rgb.detach().numpy())\n",
    "        plt.title(f'Iteration: {epoch}')\n",
    "        plt.subplot(122)\n",
    "        plt.plot(iternums, psnrs)\n",
    "        plt.title('PSNR')\n",
    "        plt.show()\n",
    "\n",
    "print('Done')\n"
   ]
  },
  {
   "cell_type": "code",
   "execution_count": null,
   "metadata": {},
   "outputs": [],
   "source": []
  },
  {
   "cell_type": "code",
   "execution_count": null,
   "metadata": {},
   "outputs": [],
   "source": []
  },
  {
   "cell_type": "code",
   "execution_count": null,
   "metadata": {},
   "outputs": [],
   "source": []
  }
 ],
 "metadata": {
  "kernelspec": {
   "display_name": "Python 3 (ipykernel)",
   "language": "python",
   "name": "python3"
  },
  "language_info": {
   "codemirror_mode": {
    "name": "ipython",
    "version": 3
   },
   "file_extension": ".py",
   "mimetype": "text/x-python",
   "name": "python",
   "nbconvert_exporter": "python",
   "pygments_lexer": "ipython3",
   "version": "3.10.8"
  },
  "vscode": {
   "interpreter": {
    "hash": "916dbcbb3f70747c44a77c7bcd40155683ae19c65e1c03b4aa3499c5328201f1"
   }
  }
 },
 "nbformat": 4,
 "nbformat_minor": 4
}
